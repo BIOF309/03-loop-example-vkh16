{
 "cells": [
  {
   "cell_type": "markdown",
   "metadata": {},
   "source": [
    "# This is an example some loops for the loop homework assignment \n"
   ]
  },
  {
   "cell_type": "markdown",
   "metadata": {},
   "source": [
    "## The following is a basic loop on a python dictionay "
   ]
  },
  {
   "cell_type": "code",
   "execution_count": 15,
   "metadata": {},
   "outputs": [
    {
     "name": "stdout",
     "output_type": "stream",
     "text": [
      "the 2017 Chevrolet hatchback model is called the Bolt\n",
      "the 2017 Honda hatchback model is called the Fit\n",
      "the 2017 Volkswagon hatchback model is called the Golf\n",
      "the 2017 Ford hatchback model is called the Fiesta\n",
      "the 2017 Mini hatchback model is called the Cooper\n",
      "the 2017 Hyundai hatchback model is called the Accent\n"
     ]
    }
   ],
   "source": [
    "# make a dictionary where the key is the make of a hatchback car and the value is the model\n",
    "\n",
    "hatchback_cars = {\"Chevrolet\": \"Bolt\", \"Honda\":\"Fit\", \"Volkswagon\": \"Golf\", \"Ford\": \"Fiesta\", \"Mini\":\"Cooper\", \"Hyundai\":\"Accent\"}\n",
    "\n",
    "# now write a loop that will iterate over each key:value pair and print out the following: the 2017 \"car make\" hatchback is the \"model name\"\n",
    "\n",
    "for key, value in hatchback_cars.items():\n",
    "    print(\"the 2017 \" + key + \" hatchback model is called the \" + value)\n"
   ]
  },
  {
   "cell_type": "markdown",
   "metadata": {},
   "source": [
    "## The following loop is an example of a loop on a dictionary that also contains an if statement "
   ]
  },
  {
   "cell_type": "code",
   "execution_count": 34,
   "metadata": {},
   "outputs": [
    {
     "name": "stdout",
     "output_type": "stream",
     "text": [
      "the 2017 Chevrolet hatchback model is called the Bolt but it is not a Mini so I am not interested\n",
      "the 2017 Honda hatchback model is called the Fit but it is not a Mini so I am not interested\n",
      "the 2017 Volkswagon hatchback model is called the Golf but it is not a Mini so I am not interested\n",
      "the 2017 Ford hatchback model is called the Fiesta but it is not a Mini so I am not interested\n",
      "the 2017 Mini hatchback model is called the Cooper\n",
      "the 2017 Hyundai hatchback model is called the Accent but it is not a Mini so I am not interested\n"
     ]
    }
   ],
   "source": [
    "# swtich the key:value pairs around so that the key is the model of a hatchback car and the value is the make of the car \n",
    "# the purpose of switching the keys and values is so that you can select on car make \n",
    "\n",
    "hatchback_cars = {\"Bolt\":\"Chevrolet\", \"Fit\":\"Honda\", \"Golf\":\"Volkswagon\", \"Fiesta\":\"Ford\", \"Cooper\":\"Mini\", \"Accent\":\"Hyundai\"}\n",
    "\n",
    "# now add an if argument to the loop\n",
    "# write a loop that will iterate over each key:value pair and print out the following if the car make is Mini: \n",
    "# the 2017 \"car make\" hatchback model is called the \"model name\" \n",
    "# if it is not a mini, say that you are not interested \n",
    "\n",
    "for key, value in hatchback_cars.items():\n",
    "    if hatchback_cars[key] == \"Mini\":\n",
    "        print(\"the 2017 \" + value + \" hatchback model is called the \" + key)\n",
    "    else:\n",
    "        print(\"the 2017 \" + value + \" hatchback model is called the \" + key + \" but it is not a Mini so I am not interested\")\n",
    "    \n",
    "    "
   ]
  },
  {
   "cell_type": "markdown",
   "metadata": {},
   "source": [
    "## Now add to the dictionary and include an 'or' statement within the 'if' statement "
   ]
  },
  {
   "cell_type": "code",
   "execution_count": 37,
   "metadata": {},
   "outputs": [
    {
     "name": "stdout",
     "output_type": "stream",
     "text": [
      "the 2017 Chevrolet hatchback model is called the Bolt but it is not a Mini or a Honda so I am not interested\n",
      "the 2017 Honda hatchback model is called the Fit\n",
      "the 2017 Volkswagon hatchback model is called the Golf but it is not a Mini or a Honda so I am not interested\n",
      "the 2017 Ford hatchback model is called the Fiesta but it is not a Mini or a Honda so I am not interested\n",
      "the 2017 Mini hatchback model is called the Cooper\n",
      "the 2017 Hyundai hatchback model is called the Accent but it is not a Mini or a Honda so I am not interested\n",
      "the 2017 Honda hatchback model is called the Civic\n"
     ]
    }
   ],
   "source": [
    "# add a new Honda model (Honda Civic) to hatchback_cars \n",
    "\n",
    "hatchback_cars[\"Civic\"]=\"Honda\"\n",
    "\n",
    "# Now write a for loop that will iterate over each value pair like above but now you are interested in Minis and Hondas\n",
    "\n",
    "for key, value in hatchback_cars.items():\n",
    "    if hatchback_cars[key] == \"Mini\" or hatchback_cars[key] == \"Honda\":\n",
    "        print(\"the 2017 \" + value + \" hatchback model is called the \" + key)\n",
    "    else:\n",
    "        print(\"the 2017 \" + value + \" hatchback model is called the \" + key + \" but it is not a Mini or a Honda so I am not interested\")\n",
    "    \n",
    "    \n"
   ]
  },
  {
   "cell_type": "code",
   "execution_count": null,
   "metadata": {
    "collapsed": true
   },
   "outputs": [],
   "source": []
  }
 ],
 "metadata": {
  "kernelspec": {
   "display_name": "Python 3",
   "language": "python",
   "name": "python3"
  },
  "language_info": {
   "codemirror_mode": {
    "name": "ipython",
    "version": 3
   },
   "file_extension": ".py",
   "mimetype": "text/x-python",
   "name": "python",
   "nbconvert_exporter": "python",
   "pygments_lexer": "ipython3",
   "version": "3.6.2"
  }
 },
 "nbformat": 4,
 "nbformat_minor": 2
}
